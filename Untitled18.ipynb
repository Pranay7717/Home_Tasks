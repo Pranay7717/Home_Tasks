{
  "nbformat": 4,
  "nbformat_minor": 0,
  "metadata": {
    "colab": {
      "provenance": [],
      "authorship_tag": "ABX9TyNEEnHAtfur7ZkdvU9oelJk",
      "include_colab_link": true
    },
    "kernelspec": {
      "name": "python3",
      "display_name": "Python 3"
    },
    "language_info": {
      "name": "python"
    }
  },
  "cells": [
    {
      "cell_type": "markdown",
      "metadata": {
        "id": "view-in-github",
        "colab_type": "text"
      },
      "source": [
        "<a href=\"https://colab.research.google.com/github/Pranay7717/Home_Tasks/blob/main/Untitled18.ipynb\" target=\"_parent\"><img src=\"https://colab.research.google.com/assets/colab-badge.svg\" alt=\"Open In Colab\"/></a>"
      ]
    },
    {
      "cell_type": "code",
      "execution_count": null,
      "metadata": {
        "colab": {
          "base_uri": "https://localhost:8080/"
        },
        "id": "zfo9FS4RCeSu",
        "outputId": "42f0b2f1-5a0d-4666-d40f-0c990cfa07ad"
      },
      "outputs": [
        {
          "output_type": "stream",
          "name": "stdout",
          "text": [
            "Enter your password: mh\n",
            "Your password is not valid:\n",
            "Enter a password of length 12 with atleast 1 special character, 1 didgit, and 5 alphabets and one uppercase \n"
          ]
        }
      ],
      "source": [
        "user_password = input(\"Enter your password: \")\n",
        "def upper(user_password):\n",
        "    for char in user_password:\n",
        "        order= ord(char)\n",
        "        if 65 <= order <= 90:\n",
        "            return True\n",
        "    return False\n",
        "def size(user_password):\n",
        "     if len(user_password)==12:\n",
        "        return True\n",
        "     return False\n",
        "def digit(user_password):\n",
        "    for char in user_password:\n",
        "        order= ord(char)\n",
        "        if 48 <= order <= 57:\n",
        "            return True\n",
        "    return False\n",
        "def special(user_password):\n",
        "    for char in user_password:\n",
        "        order = ord(char)\n",
        "        if 33 <= order <= 47 or 58 <= order <= 64 or 91 <= order <= 96 or 123 <= order <= 126:\n",
        "            return True\n",
        "    return False\n",
        "def charater_count(user_password):\n",
        "     count = 0\n",
        "     for char in user_password:\n",
        "        count += 1\n",
        "     return count\n",
        "     if count >= 5:\n",
        "        return True\n",
        "     return False\n",
        "def Password_generator(user_password):\n",
        "    if upper(user_password) and size(user_password) and digit(user_password) and special(user_password) and charater_count(user_password):\n",
        "        print(\"Your password is valid.\")\n",
        "    else:\n",
        "        print(\"\"\"Your password is not valid:\n",
        "Enter a password of length 12 with atleast 1 special character, 1 didgit, and 5 alphabets and one uppercase \"\"\")\n",
        "Password_generator(user_password)"
      ]
    },
    {
      "cell_type": "code",
      "source": [
        "\n",
        "import random\n",
        "u1_input = input(\"Enter Player 1 name: \")\n",
        "u2_input = input(\"Enter Player 2 name: \")\n",
        "def roll_dice():\n",
        "    return random.randint(1, 6)\n",
        "def dice_game(u1_name, u2_name):\n",
        "    total_u1 = 0\n",
        "    total_u2 = 0\n",
        "    limit = 20\n",
        "    max_turns = 21\n",
        "    for i in range(1, max_turns):\n",
        "      input(f\"{u1_name}, press Enter to roll the dice.\")\n",
        "      roll1 = roll_dice()\n",
        "      total_u1 += roll1\n",
        "      print(f\"{u1_name} rolled: {roll1} | Total: {total_u1} |\")\n",
        "      if total_u1 >= limit:\n",
        "           print(f\"{u1_name} wins with {total_u1} points!\")\n",
        "           break\n",
        "      input(f\"{u2_name}, press Enter to roll the dice.\")\n",
        "      roll2 = roll_dice()\n",
        "      total_u2 += roll2\n",
        "      print(f\"{u2_name} rolled: {roll2} | Total: {total_u2}\")\n",
        "      if total_u2 >= limit:\n",
        "            print(f\"{u2_name} wins with {total_u2} points!\")\n",
        "            break\n",
        "    print(\"Game Over!\")\n",
        "    if total_u1 > total_u2:\n",
        "      print(f\"{u1_name} wins with {total_u1} points!\")\n",
        "    elif total_u1 < total_u2:\n",
        "        print(f\"{u2_name} wins with {total_u2} points!\")\n",
        "    else:\n",
        "        print(\"It's a tie!\")\n",
        "dice_game(u1_input, u2_input)"
      ],
      "metadata": {
        "colab": {
          "base_uri": "https://localhost:8080/"
        },
        "id": "eFoaaC2QCrRD",
        "outputId": "8be8376e-59e3-4dfb-b1f6-7e298f80b34c"
      },
      "execution_count": null,
      "outputs": [
        {
          "output_type": "stream",
          "name": "stdout",
          "text": [
            "Enter Player 1 name: uy\n",
            "Enter Player 2 name: gk\n",
            "uy, press Enter to roll the dice.\n",
            "uy rolled: 3 | Total: 3 |\n",
            "gk, press Enter to roll the dice.\n",
            "gk rolled: 1 | Total: 1\n",
            "uy, press Enter to roll the dice.\n",
            "uy rolled: 5 | Total: 8 |\n",
            "gk, press Enter to roll the dice.\n",
            "gk rolled: 6 | Total: 7\n",
            "uy, press Enter to roll the dice.\n",
            "uy rolled: 2 | Total: 10 |\n",
            "gk, press Enter to roll the dice.\n",
            "gk rolled: 3 | Total: 10\n",
            "uy, press Enter to roll the dice.\n",
            "uy rolled: 5 | Total: 15 |\n",
            "gk, press Enter to roll the dice.\n",
            "gk rolled: 5 | Total: 15\n",
            "uy, press Enter to roll the dice.\n",
            "uy rolled: 5 | Total: 20 |\n",
            "uy wins with 20 points!\n",
            "Game Over!\n",
            "uy wins with 20 points!\n"
          ]
        }
      ]
    },
    {
      "cell_type": "code",
      "source": [
        "a= int(input(\"enter a number:\"))\n",
        "for i in range(2, a):\n",
        " if a % 2 == 0:\n",
        "  print (\"The given number\", a, \"is even number\")\n",
        "  break\n",
        "else:\n",
        "    print (\"The given number\", a, \"is odd number\")"
      ],
      "metadata": {
        "colab": {
          "base_uri": "https://localhost:8080/"
        },
        "id": "ttrVsM0GDCP8",
        "outputId": "11183017-fb3d-4e70-fdd0-057580c08ddc"
      },
      "execution_count": null,
      "outputs": [
        {
          "output_type": "stream",
          "name": "stdout",
          "text": [
            "enter a number:8\n",
            "The given number 8 is even number\n"
          ]
        }
      ]
    },
    {
      "cell_type": "code",
      "source": [
        "def multiply(n):\n",
        " for i in range(1, 11):\n",
        "  print(f\"{n} x {i} = {n * i}\")\n",
        "n = int(input(\"enter a number:\"))\n",
        "multiply(n)"
      ],
      "metadata": {
        "colab": {
          "base_uri": "https://localhost:8080/"
        },
        "id": "oPyja-nIDDZc",
        "outputId": "6cf80d2b-23aa-4945-f1a5-f2e0496d4494"
      },
      "execution_count": null,
      "outputs": [
        {
          "output_type": "stream",
          "name": "stdout",
          "text": [
            "enter a number:8\n",
            "8 x 1 = 8\n",
            "8 x 2 = 16\n",
            "8 x 3 = 24\n",
            "8 x 4 = 32\n",
            "8 x 5 = 40\n",
            "8 x 6 = 48\n",
            "8 x 7 = 56\n",
            "8 x 8 = 64\n",
            "8 x 9 = 72\n",
            "8 x 10 = 80\n"
          ]
        }
      ]
    },
    {
      "cell_type": "code",
      "source": [
        "def fibonacci(X):\n",
        "    if X <= 0:\n",
        "        return 0\n",
        "    elif X == 1:\n",
        "        return 1\n",
        "    else:\n",
        "        return fibonacci(X - 1) + fibonacci(X - 2)\n",
        "number = int(input(\"Enter a number: \"))\n",
        "print(f\"Fibonacci number at position {number} is {fibonacci(number)}\")"
      ],
      "metadata": {
        "colab": {
          "base_uri": "https://localhost:8080/"
        },
        "id": "cGLXN2YNEkwr",
        "outputId": "75ff4548-8334-4694-d15c-b9bc7f4db874"
      },
      "execution_count": null,
      "outputs": [
        {
          "output_type": "stream",
          "name": "stdout",
          "text": [
            "Enter a number: 8\n",
            "Fibonacci number at position 8 is 21\n"
          ]
        }
      ]
    },
    {
      "cell_type": "code",
      "source": [
        "user_value = float(input(\"Enter the radius of the circle:\"))\n",
        "area= 3.14*user_value**2\n",
        "print(area)"
      ],
      "metadata": {
        "colab": {
          "base_uri": "https://localhost:8080/"
        },
        "id": "YxkZIrNvKN9c",
        "outputId": "aec5e596-94d7-46b1-eb64-9379adfe7537"
      },
      "execution_count": null,
      "outputs": [
        {
          "output_type": "stream",
          "name": "stdout",
          "text": [
            "Enter the radius of the circle:8\n",
            "200.96\n"
          ]
        }
      ]
    },
    {
      "cell_type": "code",
      "source": [
        "def calculator():\n",
        " operand = input(\"Enter operand: \")\n",
        " Number1 = int(input(\"Enter Number1: \"))\n",
        " Number2 = int(input(\"Enter Number2: \"))\n",
        " if operand == \"+\":\n",
        "  print(Number1 + Number2)\n",
        " elif operand == \"-\":\n",
        "    print(Number1 - Number2)\n",
        " elif operand == \"*\":\n",
        "    print(Number1 * Number2)\n",
        " elif operand == \"/\":\n",
        "    print(Number1 / Number2)\n",
        " elif operand == \"%\":\n",
        "    print(Number1 % Number2)\n",
        " elif operand == \"**\":\n",
        "    print(Number1 ** Number2)\n",
        " else:\n",
        "   print(\"Invalid operand\")\n",
        "calculator()"
      ],
      "metadata": {
        "colab": {
          "base_uri": "https://localhost:8080/"
        },
        "id": "wNipgPZLKwzA",
        "outputId": "2323974d-f606-49ac-f3d2-83ee407ae070"
      },
      "execution_count": null,
      "outputs": [
        {
          "output_type": "stream",
          "name": "stdout",
          "text": [
            "Enter operand: +\n",
            "Enter Number1: 7\n",
            "Enter Number2: 8\n",
            "15\n"
          ]
        }
      ]
    },
    {
      "cell_type": "code",
      "source": [],
      "metadata": {
        "id": "jROblFbyLFHi"
      },
      "execution_count": null,
      "outputs": []
    }
  ]
}